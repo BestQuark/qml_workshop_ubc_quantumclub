{
 "cells": [
  {
   "attachments": {},
   "cell_type": "markdown",
   "metadata": {},
   "source": [
    "# Introduction to Machine Learning"
   ]
  },
  {
   "cell_type": "code",
   "execution_count": 1,
   "metadata": {},
   "outputs": [
    {
     "name": "stdout",
     "output_type": "stream",
     "text": [
      "Requirement already satisfied: numpy in /Users/luismantilla/miniforge3/envs/pennylane/lib/python3.10/site-packages (1.22.3)\n",
      "Requirement already satisfied: matplotlib in /Users/luismantilla/miniforge3/envs/pennylane/lib/python3.10/site-packages (3.5.3)\n",
      "Requirement already satisfied: scikit-learn in /Users/luismantilla/miniforge3/envs/pennylane/lib/python3.10/site-packages (1.1.1)\n",
      "Requirement already satisfied: fonttools>=4.22.0 in /Users/luismantilla/miniforge3/envs/pennylane/lib/python3.10/site-packages (from matplotlib) (4.33.3)\n",
      "Requirement already satisfied: pillow>=6.2.0 in /Users/luismantilla/miniforge3/envs/pennylane/lib/python3.10/site-packages (from matplotlib) (7.1.0)\n",
      "Requirement already satisfied: packaging>=20.0 in /Users/luismantilla/miniforge3/envs/pennylane/lib/python3.10/site-packages (from matplotlib) (21.3)\n",
      "Requirement already satisfied: python-dateutil>=2.7 in /Users/luismantilla/miniforge3/envs/pennylane/lib/python3.10/site-packages (from matplotlib) (2.8.2)\n",
      "Requirement already satisfied: cycler>=0.10 in /Users/luismantilla/miniforge3/envs/pennylane/lib/python3.10/site-packages (from matplotlib) (0.11.0)\n",
      "Requirement already satisfied: kiwisolver>=1.0.1 in /Users/luismantilla/miniforge3/envs/pennylane/lib/python3.10/site-packages (from matplotlib) (1.4.2)\n",
      "Requirement already satisfied: pyparsing>=2.2.1 in /Users/luismantilla/miniforge3/envs/pennylane/lib/python3.10/site-packages (from matplotlib) (2.4.7)\n",
      "Requirement already satisfied: threadpoolctl>=2.0.0 in /Users/luismantilla/miniforge3/envs/pennylane/lib/python3.10/site-packages (from scikit-learn) (3.1.0)\n",
      "Requirement already satisfied: scipy>=1.3.2 in /Users/luismantilla/miniforge3/envs/pennylane/lib/python3.10/site-packages (from scikit-learn) (1.8.1)\n",
      "Requirement already satisfied: joblib>=1.0.0 in /Users/luismantilla/miniforge3/envs/pennylane/lib/python3.10/site-packages (from scikit-learn) (1.1.0)\n",
      "Requirement already satisfied: six>=1.5 in /Users/luismantilla/miniforge3/envs/pennylane/lib/python3.10/site-packages (from python-dateutil>=2.7->matplotlib) (1.16.0)\n",
      "\n",
      "\u001b[1m[\u001b[0m\u001b[34;49mnotice\u001b[0m\u001b[1;39;49m]\u001b[0m\u001b[39;49m A new release of pip available: \u001b[0m\u001b[31;49m22.1.2\u001b[0m\u001b[39;49m -> \u001b[0m\u001b[32;49m23.0.1\u001b[0m\n",
      "\u001b[1m[\u001b[0m\u001b[34;49mnotice\u001b[0m\u001b[1;39;49m]\u001b[0m\u001b[39;49m To update, run: \u001b[0m\u001b[32;49mpip install --upgrade pip\u001b[0m\n"
     ]
    }
   ],
   "source": [
    "!pip install numpy matplotlib scikit-learn"
   ]
  },
  {
   "cell_type": "code",
   "execution_count": 2,
   "metadata": {},
   "outputs": [],
   "source": [
    "import numpy as np\n",
    "import matplotlib.pyplot as plt\n",
    "from sklearn import datasets\n",
    "from sklearn.model_selection import train_test_split\n",
    "from sklearn.preprocessing import StandardScaler\n",
    "from sklearn.svm import SVC\n",
    "from sklearn.linear_model import LogisticRegression\n",
    "from sklearn.metrics import accuracy_score, classification_report, confusion_matrix\n",
    "\n",
    "from utils import plot_decision_boundary"
   ]
  },
  {
   "attachments": {},
   "cell_type": "markdown",
   "metadata": {},
   "source": [
    "Load the data:"
   ]
  },
  {
   "cell_type": "code",
   "execution_count": 3,
   "metadata": {},
   "outputs": [],
   "source": [
    "n_samples = 100\n",
    "\n",
    "X, y = datasets.make_circles(n_samples=n_samples, noise=0.1, factor=0.4)"
   ]
  },
  {
   "attachments": {},
   "cell_type": "markdown",
   "metadata": {},
   "source": [
    "Normalize the data and split in test and training set:"
   ]
  },
  {
   "cell_type": "code",
   "execution_count": 4,
   "metadata": {},
   "outputs": [],
   "source": [
    "scaler = StandardScaler()\n",
    "X_scaled = scaler.fit_transform(X)\n",
    "\n",
    "X_train, X_test, y_train, y_test = train_test_split(X_scaled, y, test_size=0.3, random_state=42)\n"
   ]
  },
  {
   "attachments": {},
   "cell_type": "markdown",
   "metadata": {},
   "source": [
    "We first use a logisitic regression model to classify the data"
   ]
  },
  {
   "cell_type": "code",
   "execution_count": 5,
   "metadata": {},
   "outputs": [],
   "source": [
    "logistic_regression = LogisticRegression()\n",
    "logistic_regression.fit(X_train, y_train)\n",
    "\n",
    "y_pred = logistic_regression.predict(X_test)"
   ]
  },
  {
   "cell_type": "code",
   "execution_count": 6,
   "metadata": {},
   "outputs": [
    {
     "name": "stdout",
     "output_type": "stream",
     "text": [
      "Accuracy: 0.37\n",
      "Classification Report:\n",
      "              precision    recall  f1-score   support\n",
      "\n",
      "           0       0.38      0.31      0.34        16\n",
      "           1       0.35      0.43      0.39        14\n",
      "\n",
      "    accuracy                           0.37        30\n",
      "   macro avg       0.37      0.37      0.37        30\n",
      "weighted avg       0.37      0.37      0.36        30\n",
      "\n",
      "Confusion Matrix:\n",
      "[[ 5 11]\n",
      " [ 8  6]]\n"
     ]
    }
   ],
   "source": [
    "accuracy = accuracy_score(y_test, y_pred)\n",
    "print(f\"Accuracy: {accuracy:.2f}\")\n",
    "\n",
    "print(\"Classification Report:\")\n",
    "print(classification_report(y_test, y_pred))\n",
    "\n",
    "print(\"Confusion Matrix:\")\n",
    "print(confusion_matrix(y_test, y_pred))"
   ]
  },
  {
   "cell_type": "code",
   "execution_count": 7,
   "metadata": {},
   "outputs": [
    {
     "data": {
      "image/png": "[encoded data removed]",
      "text/plain": [
       "<Figure size 432x288 with 1 Axes>"
      ]
     },
     "metadata": {
      "needs_background": "light"
     },
     "output_type": "display_data"
    }
   ],
   "source": [
    "plt.title(\"Logistic Regression\")\n",
    "plot_decision_boundary(logistic_regression, X_scaled, y)"
   ]
  },
  {
   "cell_type": "code",
   "execution_count": 8,
   "metadata": {},
   "outputs": [
    {
     "data": {
      "application/vnd.plotly.v1+json": {
       "config": {
        "plotlyServerURL": "https://plot.ly"
       },
       "data": [
        {
         "marker": {
          "color": [
           0,
           1,
           1,
           1,
           0,
           1,
           0,
           1,
           0,
           0,
           0,
           1,
           1,
           1,
           1,
           1,
           0,
           0,
           0,
           1,
           0,
           1,
           0,
           0,
           1,
           0,
           0,
           0,
           1,
           1,
           1,
           1,
           1,
           1,
           0,
           1,
           1,
           0,
           1,
           0,
           0,
           1,
           1,
           0,
           1,
           1,
           1,
           0,
           0,
           1,
           1,
           1,
           1,
           1,
           0,
           0,
           0,
           0,
           1,
           0,
           0,
           0,
           0,
           0,
           1,
           0,
           0,
           0,
           1,
           0,
           1,
           1,
           0,
           1,
           1,
           0,
           0,
           1,
           1,
           0,
           0,
           0,
           0,
           1,
           0,
           0,
           0,
           1,
           0,
           1,
           1,
           1,
           1,
           0,
           0,
           1,
           0,
           1,
           0,
           1
          ],
          "colorscale": [
           [
            0,
            "rgb(158,1,66)"
           ],
           [
            0.1,
            "rgb(213,62,79)"
           ],
           [
            0.2,
            "rgb(244,109,67)"
           ],
           [
            0.3,
            "rgb(253,174,97)"
           ],
           [
            0.4,
            "rgb(254,224,139)"
           ],
           [
            0.5,
            "rgb(255,255,191)"
           ],
           [
            0.6,
            "rgb(230,245,152)"
           ],
           [
            0.7,
            "rgb(171,221,164)"
           ],
           [
            0.8,
            "rgb(102,194,165)"
           ],
           [
            0.9,
            "rgb(50,136,189)"
           ],
           [
            1,
            "rgb(94,79,162)"
           ]
          ],
          "opacity": 0.8,
          "size": 5
         },
         "mode": "markers",
         "type": "scatter3d",
         "x": [
          0.8118429877847488,
          0.15362622415640648,
          0.3715526814321464,
          0.05279945607086267,
          0.9997731631552693,
          -0.02121344642987963,
          -0.8073477399946216,
          0.039043834746195126,
          -0.21173429150795636,
          -1.11322710414147,
          0.27032628458757674,
          -0.37617560030260433,
          -0.3060875390898897,
          0.3934802374088407,
          0.2680605346527499,
          -0.26935767867996124,
          -0.10226692725673711,
          -0.4555635737419065,
          -0.5677848643755892,
          -0.39044633088142544,
          0.7113847871135941,
          -0.027564421314553916,
          -0.3238478718414521,
          -0.8474018695893123,
          -0.24125305753170884,
          0.8388030813406965,
          -0.9648996486630097,
          0.6137159520627514,
          -0.09052588498094846,
          0.18841742030896305,
          -0.261142179606549,
          -0.10595984880246871,
          -0.022261984370089374,
          -0.3175179697471686,
          -0.5752850316084471,
          0.38292057400242946,
          -0.3108993689920131,
          0.10472950361502731,
          -0.17575632155523613,
          0.9125933844848618,
          0.1407983272892723,
          0.4253903298611722,
          0.4573550269734452,
          0.9139333388861304,
          -0.39639832399203057,
          -0.11772469667317609,
          0.03113632553738261,
          -0.8724041053413273,
          -0.9577726436086506,
          0.467742962501264,
          0.3885505295553189,
          0.27663308679659326,
          0.21150889619256136,
          0.3553754346118489,
          -0.015515499522668078,
          -0.6639294063837983,
          -0.7040015060268362,
          -1.0499833430902936,
          -0.23361124163914618,
          0.9092257433931865,
          -0.173369853826585,
          0.2095056652207301,
          -1.0443949306335414,
          -0.463742758144637,
          -0.2862690070306192,
          0.6891583306041571,
          -1.01080452687409,
          -0.23706798518893407,
          -0.272922623685196,
          0.9740962901149093,
          0.18649058882978434,
          -0.08271878310913067,
          0.7907664091983121,
          -0.557038549914958,
          0.39431832106307196,
          -0.8834121926530526,
          0.39336716375695,
          0.19064171720024214,
          -0.4396544386229272,
          0.8438496378523632,
          1.0326667037593498,
          0.7471217349262972,
          -0.3666322762270112,
          -0.22453925072962658,
          0.017644922992113288,
          -0.24233488677675818,
          1.1608640006160897,
          0.132031564676907,
          0.46553518227109253,
          -0.5692857349060114,
          -0.27479742705224613,
          0.190461218187076,
          -0.410761060983095,
          0.38756445978761306,
          0.6533513958410404,
          0.3061511045477891,
          1.0661281792560386,
          0.4012315113910633,
          -1.0636670505285137,
          0.06332682314418539
         ],
         "y": [
          -0.44781019191639276,
          -0.25515182187231034,
          -0.19215676380052263,
          0.3671925498473709,
          -0.39405816327008236,
          0.4787024033328038,
          0.1483561781738005,
          0.3670679737362531,
          -0.7592115529278767,
          0.2825994949304805,
          1.0861177152931565,
          0.0010470468594237163,
          0.013056664607935614,
          0.1991846211199239,
          -0.3102106731099602,
          0.2520460917410906,
          -1.1319707813742388,
          -0.7872957986233914,
          0.8486674891860824,
          -0.33706112137096533,
          0.6875673565410396,
          0.2836718787005654,
          -0.7900889393799868,
          -0.0729569726125128,
          0.13026821188922444,
          0.5609694418884654,
          0.17589211318636552,
          0.7454001085611965,
          -0.36941730459685246,
          0.31271483279316853,
          -0.2777031032606694,
          -0.38808714849940307,
          -0.3844836781529748,
          -0.024905085004231574,
          0.6130139957077978,
          -0.24451859278091678,
          0.34324447746244846,
          0.7730705897988387,
          -0.3483528693080414,
          0.47780253150591706,
          -0.8893547616643439,
          0.12459205940412449,
          0.10320322268791085,
          -0.11971002018845514,
          -0.2564439034729571,
          0.35864777420070676,
          -0.4482438625499572,
          -0.16602374796147762,
          0.5155847450503271,
          -0.40191670049971584,
          0.06484136837275128,
          -0.024049213087967147,
          0.1437125771224339,
          0.16784163491376464,
          -1.0395548546255087,
          0.7298208993329096,
          0.7786114713303564,
          -0.33337366530893486,
          -0.2778007086575308,
          0.4365066039092832,
          -0.9774214693052741,
          1.0515432683428443,
          -0.09929242529166328,
          0.7616789659371879,
          0.023024618233814895,
          -0.5443694911815145,
          -0.7397129909927972,
          1.0021551613487716,
          -0.30469245281303103,
          -0.14994319653140578,
          -0.44987434552235755,
          -0.4037811449925396,
          0.5938800220537231,
          0.23253340218839808,
          -0.18948764554626407,
          -0.4497725490593324,
          0.9900759935035315,
          0.24089136868221153,
          -0.11251658132097803,
          -0.7446448530022395,
          0.2020445847992901,
          -1.0218888808675026,
          -0.711507388019446,
          0.3311398264981102,
          0.861472999895041,
          0.9616856406128796,
          -0.17816436717052925,
          0.3699674192255223,
          -0.8819863548401101,
          0.04641145932474555,
          0.31685183243951753,
          -0.43486337176951056,
          -0.11704144592005392,
          -1.0961803247542259,
          -0.8593256541210346,
          -0.12242611209839233,
          0.20818072616654124,
          -0.12689072054867367,
          -0.3819552668632032,
          0.3841774202707413
         ],
         "z": [
          0.03211307473373964,
          0.7013039606913105,
          0.4966337392031782,
          0.5766772054958007,
          0.009859568685178042,
          0.39914760024803614,
          0.06752349176469742,
          0.5798108939624991,
          0.08333102341450356,
          0.005110039015233283,
          0.006664822439442158,
          0.5677712250014157,
          0.6869867784361868,
          0.45932151667077203,
          0.5105082668889154,
          0.5802343729895749,
          0.005700134561257294,
          0.036534751443624204,
          0.015445082089619847,
          0.34499196662925274,
          0.019935190533238837,
          0.7225865105690914,
          0.05412430654152821,
          0.05537369631462558,
          0.7403062113978904,
          0.017024372315983746,
          0.021324951287778986,
          0.02401505468769312,
          0.5606511947052134,
          0.5867439450951447,
          0.5591950130439105,
          0.5234276317122751,
          0.5525047883911145,
          0.6664756344568332,
          0.05919275619762951,
          0.43794145897803816,
          0.42405133592160127,
          0.08764807563534587,
          0.5439162346054529,
          0.014343078637062306,
          0.039042509305869895,
          0.45570005682053893,
          0.4150741485592201,
          0.03342608995854954,
          0.4100072536674094,
          0.5655540999249625,
          0.4459412222488382,
          0.04265498067759509,
          0.008803338409744841,
          0.21843166651089072,
          0.5375660363072773,
          0.7346089828564992,
          0.7698517832357525,
          0.5391022322992115,
          0.013251293535375306,
          0.020368550556723836,
          0.012186630666857951,
          0.007793914158224105,
          0.5903794673624568,
          0.017095878450334896,
          0.01941635863739196,
          0.010066487153855053,
          0.012246941735398913,
          0.04155037337619862,
          0.7189810269451887,
          0.04572503175254338,
          0.001881653434227242,
          0.014377873910415414,
          0.5120684367837951,
          0.020539895165647703,
          0.3872585713934811,
          0.5068569624595273,
          0.020000060547780727,
          0.23282808813578265,
          0.46506875478946574,
          0.0196269866068652,
          0.010673910417054925,
          0.6855789169778352,
          0.43875064860901625,
          0.0063056282358991775,
          0.011927720414773984,
          0.001645368205699635,
          0.07710031161587225,
          0.5271417247132235,
          0.05131417283258583,
          0.019560131825749408,
          0.004016312529127703,
          0.5394350442511961,
          0.01871384332523484,
          0.2711830876327749,
          0.4947835728753576,
          0.40594950015954145,
          0.48205676742196973,
          0.004483864200965239,
          0.009454783215974132,
          0.6473510134401932,
          0.008916301598202094,
          0.49245513312283645,
          0.006041459355574752,
          0.5453048368043432
         ]
        }
       ],
       "layout": {
        "template": {
         "data": {
          "bar": [
           {
            "error_x": {
             "color": "#2a3f5f"
            },
            "error_y": {
             "color": "#2a3f5f"
            },
            "marker": {
             "line": {
              "color": "#E5ECF6",
              "width": 0.5
             },
             "pattern": {
              "fillmode": "overlay",
              "size": 10,
              "solidity": 0.2
             }
            },
            "type": "bar"
           }
          ],
          "barpolar": [
           {
            "marker": {
             "line": {
              "color": "#E5ECF6",
              "width": 0.5
             },
             "pattern": {
              "fillmode": "overlay",
              "size": 10,
              "solidity": 0.2
             }
            },
            "type": "barpolar"
           }
          ],
          "carpet": [
           {
            "aaxis": {
             "endlinecolor": "#2a3f5f",
             "gridcolor": "white",
             "linecolor": "white",
             "minorgridcolor": "white",
             "startlinecolor": "#2a3f5f"
            },
            "baxis": {
             "endlinecolor": "#2a3f5f",
             "gridcolor": "white",
             "linecolor": "white",
             "minorgridcolor": "white",
             "startlinecolor": "#2a3f5f"
            },
            "type": "carpet"
           }
          ],
          "choropleth": [
           {
            "colorbar": {
             "outlinewidth": 0,
             "ticks": ""
            },
            "type": "choropleth"
           }
          ],
          "contour": [
           {
            "colorbar": {
             "outlinewidth": 0,
             "ticks": ""
            },
            "colorscale": [
             [
              0,
              "#0d0887"
             ],
             [
              0.1111111111111111,
              "#46039f"
             ],
             [
              0.2222222222222222,
              "#7201a8"
             ],
             [
              0.3333333333333333,
              "#9c179e"
             ],
             [
              0.4444444444444444,
              "#bd3786"
             ],
             [
              0.5555555555555556,
              "#d8576b"
             ],
             [
              0.6666666666666666,
              "#ed7953"
             ],
             [
              0.7777777777777778,
              "#fb9f3a"
             ],
             [
              0.8888888888888888,
              "#fdca26"
             ],
             [
              1,
              "#f0f921"
             ]
            ],
            "type": "contour"
           }
          ],
          "contourcarpet": [
           {
            "colorbar": {
             "outlinewidth": 0,
             "ticks": ""
            },
            "type": "contourcarpet"
           }
          ],
          "heatmap": [
           {
            "colorbar": {
             "outlinewidth": 0,
             "ticks": ""
            },
            "colorscale": [
             [
              0,
              "#0d0887"
             ],
             [
              0.1111111111111111,
              "#46039f"
             ],
             [
              0.2222222222222222,
              "#7201a8"
             ],
             [
              0.3333333333333333,
              "#9c179e"
             ],
             [
              0.4444444444444444,
              "#bd3786"
             ],
             [
              0.5555555555555556,
              "#d8576b"
             ],
             [
              0.6666666666666666,
              "#ed7953"
             ],
             [
              0.7777777777777778,
              "#fb9f3a"
             ],
             [
              0.8888888888888888,
              "#fdca26"
             ],
             [
              1,
              "#f0f921"
             ]
            ],
            "type": "heatmap"
           }
          ],
          "heatmapgl": [
           {
            "colorbar": {
             "outlinewidth": 0,
             "ticks": ""
            },
            "colorscale": [
             [
              0,
              "#0d0887"
             ],
             [
              0.1111111111111111,
              "#46039f"
             ],
             [
              0.2222222222222222,
              "#7201a8"
             ],
             [
              0.3333333333333333,
              "#9c179e"
             ],
             [
              0.4444444444444444,
              "#bd3786"
             ],
             [
              0.5555555555555556,
              "#d8576b"
             ],
             [
              0.6666666666666666,
              "#ed7953"
             ],
             [
              0.7777777777777778,
              "#fb9f3a"
             ],
             [
              0.8888888888888888,
              "#fdca26"
             ],
             [
              1,
              "#f0f921"
             ]
            ],
            "type": "heatmapgl"
           }
          ],
          "histogram": [
           {
            "marker": {
             "pattern": {
              "fillmode": "overlay",
              "size": 10,
              "solidity": 0.2
             }
            },
            "type": "histogram"
           }
          ],
          "histogram2d": [
           {
            "colorbar": {
             "outlinewidth": 0,
             "ticks": ""
            },
            "colorscale": [
             [
              0,
              "#0d0887"
             ],
             [
              0.1111111111111111,
              "#46039f"
             ],
             [
              0.2222222222222222,
              "#7201a8"
             ],
             [
              0.3333333333333333,
              "#9c179e"
             ],
             [
              0.4444444444444444,
              "#bd3786"
             ],
             [
              0.5555555555555556,
              "#d8576b"
             ],
             [
              0.6666666666666666,
              "#ed7953"
             ],
             [
              0.7777777777777778,
              "#fb9f3a"
             ],
             [
              0.8888888888888888,
              "#fdca26"
             ],
             [
              1,
              "#f0f921"
             ]
            ],
            "type": "histogram2d"
           }
          ],
          "histogram2dcontour": [
           {
            "colorbar": {
             "outlinewidth": 0,
             "ticks": ""
            },
            "colorscale": [
             [
              0,
              "#0d0887"
             ],
             [
              0.1111111111111111,
              "#46039f"
             ],
             [
              0.2222222222222222,
              "#7201a8"
             ],
             [
              0.3333333333333333,
              "#9c179e"
             ],
             [
              0.4444444444444444,
              "#bd3786"
             ],
             [
              0.5555555555555556,
              "#d8576b"
             ],
             [
              0.6666666666666666,
              "#ed7953"
             ],
             [
              0.7777777777777778,
              "#fb9f3a"
             ],
             [
              0.8888888888888888,
              "#fdca26"
             ],
             [
              1,
              "#f0f921"
             ]
            ],
            "type": "histogram2dcontour"
           }
          ],
          "mesh3d": [
           {
            "colorbar": {
             "outlinewidth": 0,
             "ticks": ""
            },
            "type": "mesh3d"
           }
          ],
          "parcoords": [
           {
            "line": {
             "colorbar": {
              "outlinewidth": 0,
              "ticks": ""
             }
            },
            "type": "parcoords"
           }
          ],
          "pie": [
           {
            "automargin": true,
            "type": "pie"
           }
          ],
          "scatter": [
           {
            "fillpattern": {
             "fillmode": "overlay",
             "size": 10,
             "solidity": 0.2
            },
            "type": "scatter"
           }
          ],
          "scatter3d": [
           {
            "line": {
             "colorbar": {
              "outlinewidth": 0,
              "ticks": ""
             }
            },
            "marker": {
             "colorbar": {
              "outlinewidth": 0,
              "ticks": ""
             }
            },
            "type": "scatter3d"
           }
          ],
          "scattercarpet": [
           {
            "marker": {
             "colorbar": {
              "outlinewidth": 0,
              "ticks": ""
             }
            },
            "type": "scattercarpet"
           }
          ],
          "scattergeo": [
           {
            "marker": {
             "colorbar": {
              "outlinewidth": 0,
              "ticks": ""
             }
            },
            "type": "scattergeo"
           }
          ],
          "scattergl": [
           {
            "marker": {
             "colorbar": {
              "outlinewidth": 0,
              "ticks": ""
             }
            },
            "type": "scattergl"
           }
          ],
          "scattermapbox": [
           {
            "marker": {
             "colorbar": {
              "outlinewidth": 0,
              "ticks": ""
             }
            },
            "type": "scattermapbox"
           }
          ],
          "scatterpolar": [
           {
            "marker": {
             "colorbar": {
              "outlinewidth": 0,
              "ticks": ""
             }
            },
            "type": "scatterpolar"
           }
          ],
          "scatterpolargl": [
           {
            "marker": {
             "colorbar": {
              "outlinewidth": 0,
              "ticks": ""
             }
            },
            "type": "scatterpolargl"
           }
          ],
          "scatterternary": [
           {
            "marker": {
             "colorbar": {
              "outlinewidth": 0,
              "ticks": ""
             }
            },
            "type": "scatterternary"
           }
          ],
          "surface": [
           {
            "colorbar": {
             "outlinewidth": 0,
             "ticks": ""
            },
            "colorscale": [
             [
              0,
              "#0d0887"
             ],
             [
              0.1111111111111111,
              "#46039f"
             ],
             [
              0.2222222222222222,
              "#7201a8"
             ],
             [
              0.3333333333333333,
              "#9c179e"
             ],
             [
              0.4444444444444444,
              "#bd3786"
             ],
             [
              0.5555555555555556,
              "#d8576b"
             ],
             [
              0.6666666666666666,
              "#ed7953"
             ],
             [
              0.7777777777777778,
              "#fb9f3a"
             ],
             [
              0.8888888888888888,
              "#fdca26"
             ],
             [
              1,
              "#f0f921"
             ]
            ],
            "type": "surface"
           }
          ],
          "table": [
           {
            "cells": {
             "fill": {
              "color": "#EBF0F8"
             },
             "line": {
              "color": "white"
             }
            },
            "header": {
             "fill": {
              "color": "#C8D4E3"
             },
             "line": {
              "color": "white"
             }
            },
            "type": "table"
           }
          ]
         },
         "layout": {
          "annotationdefaults": {
           "arrowcolor": "#2a3f5f",
           "arrowhead": 0,
           "arrowwidth": 1
          },
          "autotypenumbers": "strict",
          "coloraxis": {
           "colorbar": {
            "outlinewidth": 0,
            "ticks": ""
           }
          },
          "colorscale": {
           "diverging": [
            [
             0,
             "#8e0152"
            ],
            [
             0.1,
             "#c51b7d"
            ],
            [
             0.2,
             "#de77ae"
            ],
            [
             0.3,
             "#f1b6da"
            ],
            [
             0.4,
             "#fde0ef"
            ],
            [
             0.5,
             "#f7f7f7"
            ],
            [
             0.6,
             "#e6f5d0"
            ],
            [
             0.7,
             "#b8e186"
            ],
            [
             0.8,
             "#7fbc41"
            ],
            [
             0.9,
             "#4d9221"
            ],
            [
             1,
             "#276419"
            ]
           ],
           "sequential": [
            [
             0,
             "#0d0887"
            ],
            [
             0.1111111111111111,
             "#46039f"
            ],
            [
             0.2222222222222222,
             "#7201a8"
            ],
            [
             0.3333333333333333,
             "#9c179e"
            ],
            [
             0.4444444444444444,
             "#bd3786"
            ],
            [
             0.5555555555555556,
             "#d8576b"
            ],
            [
             0.6666666666666666,
             "#ed7953"
            ],
            [
             0.7777777777777778,
             "#fb9f3a"
            ],
            [
             0.8888888888888888,
             "#fdca26"
            ],
            [
             1,
             "#f0f921"
            ]
           ],
           "sequentialminus": [
            [
             0,
             "#0d0887"
            ],
            [
             0.1111111111111111,
             "#46039f"
            ],
            [
             0.2222222222222222,
             "#7201a8"
            ],
            [
             0.3333333333333333,
             "#9c179e"
            ],
            [
             0.4444444444444444,
             "#bd3786"
            ],
            [
             0.5555555555555556,
             "#d8576b"
            ],
            [
             0.6666666666666666,
             "#ed7953"
            ],
            [
             0.7777777777777778,
             "#fb9f3a"
            ],
            [
             0.8888888888888888,
             "#fdca26"
            ],
            [
             1,
             "#f0f921"
            ]
           ]
          },
          "colorway": [
           "#636efa",
           "#EF553B",
           "#00cc96",
           "#ab63fa",
           "#FFA15A",
           "#19d3f3",
           "#FF6692",
           "#B6E880",
           "#FF97FF",
           "#FECB52"
          ],
          "font": {
           "color": "#2a3f5f"
          },
          "geo": {
           "bgcolor": "white",
           "lakecolor": "white",
           "landcolor": "#E5ECF6",
           "showlakes": true,
           "showland": true,
           "subunitcolor": "white"
          },
          "hoverlabel": {
           "align": "left"
          },
          "hovermode": "closest",
          "mapbox": {
           "style": "light"
          },
          "paper_bgcolor": "white",
          "plot_bgcolor": "#E5ECF6",
          "polar": {
           "angularaxis": {
            "gridcolor": "white",
            "linecolor": "white",
            "ticks": ""
           },
           "bgcolor": "#E5ECF6",
           "radialaxis": {
            "gridcolor": "white",
            "linecolor": "white",
            "ticks": ""
           }
          },
          "scene": {
           "xaxis": {
            "backgroundcolor": "#E5ECF6",
            "gridcolor": "white",
            "gridwidth": 2,
            "linecolor": "white",
            "showbackground": true,
            "ticks": "",
            "zerolinecolor": "white"
           },
           "yaxis": {
            "backgroundcolor": "#E5ECF6",
            "gridcolor": "white",
            "gridwidth": 2,
            "linecolor": "white",
            "showbackground": true,
            "ticks": "",
            "zerolinecolor": "white"
           },
           "zaxis": {
            "backgroundcolor": "#E5ECF6",
            "gridcolor": "white",
            "gridwidth": 2,
            "linecolor": "white",
            "showbackground": true,
            "ticks": "",
            "zerolinecolor": "white"
           }
          },
          "shapedefaults": {
           "line": {
            "color": "#2a3f5f"
           }
          },
          "ternary": {
           "aaxis": {
            "gridcolor": "white",
            "linecolor": "white",
            "ticks": ""
           },
           "baxis": {
            "gridcolor": "white",
            "linecolor": "white",
            "ticks": ""
           },
           "bgcolor": "#E5ECF6",
           "caxis": {
            "gridcolor": "white",
            "linecolor": "white",
            "ticks": ""
           }
          },
          "title": {
           "x": 0.05
          },
          "xaxis": {
           "automargin": true,
           "gridcolor": "white",
           "linecolor": "white",
           "ticks": "",
           "title": {
            "standoff": 15
           },
           "zerolinecolor": "white",
           "zerolinewidth": 2
          },
          "yaxis": {
           "automargin": true,
           "gridcolor": "white",
           "linecolor": "white",
           "ticks": "",
           "title": {
            "standoff": 15
           },
           "zerolinecolor": "white",
           "zerolinewidth": 2
          }
         }
        }
       }
      }
     },
     "metadata": {},
     "output_type": "display_data"
    }
   ],
   "source": [
    "import plotly.graph_objects as go\n",
    "\n",
    "def transform_to_3d(X):\n",
    "    r = np.sqrt(X[:, 0]**2 + X[:, 1]**2)\n",
    "    z = np.exp(-4 * r**2)\n",
    "    X_3d = np.column_stack((X, z))\n",
    "    return X_3d\n",
    "\n",
    "X_3d = transform_to_3d(X)\n",
    "\n",
    "fig = go.Figure(data=[go.Scatter3d(x=X_3d[:, 0], y=X_3d[:, 1], z=X_3d[:, 2], mode='markers', marker=dict(size=5, color=y, colorscale='Spectral', opacity=0.8))])\n",
    "fig.show()"
   ]
  },
  {
   "cell_type": "code",
   "execution_count": 9,
   "metadata": {},
   "outputs": [],
   "source": [
    "scaler = StandardScaler()\n",
    "X_scaled = scaler.fit_transform(X_3d)\n",
    "\n",
    "X_train, X_test, y_train, y_test = train_test_split(X_scaled, y, test_size=0.3, random_state=42)\n",
    "\n",
    "logistic_regression = LogisticRegression()\n",
    "logistic_regression.fit(X_train, y_train)\n",
    "\n",
    "y_pred = logistic_regression.predict(X_test)"
   ]
  },
  {
   "cell_type": "code",
   "execution_count": 10,
   "metadata": {},
   "outputs": [
    {
     "name": "stdout",
     "output_type": "stream",
     "text": [
      "Accuracy: 0.97\n",
      "Classification Report:\n",
      "              precision    recall  f1-score   support\n",
      "\n",
      "           0       0.94      1.00      0.97        16\n",
      "           1       1.00      0.93      0.96        14\n",
      "\n",
      "    accuracy                           0.97        30\n",
      "   macro avg       0.97      0.96      0.97        30\n",
      "weighted avg       0.97      0.97      0.97        30\n",
      "\n",
      "Confusion Matrix:\n",
      "[[16  0]\n",
      " [ 1 13]]\n"
     ]
    }
   ],
   "source": [
    "accuracy = accuracy_score(y_test, y_pred)\n",
    "print(f\"Accuracy: {accuracy:.2f}\")\n",
    "\n",
    "print(\"Classification Report:\")\n",
    "print(classification_report(y_test, y_pred))\n",
    "\n",
    "print(\"Confusion Matrix:\")\n",
    "print(confusion_matrix(y_test, y_pred))"
   ]
  },
  {
   "attachments": {},
   "cell_type": "markdown",
   "metadata": {},
   "source": [
    "### Can we perform this classification without having to increase the number of features?"
   ]
  },
  {
   "cell_type": "code",
   "execution_count": 11,
   "metadata": {},
   "outputs": [],
   "source": [
    "n_samples = 100\n",
    "\n",
    "X, y = datasets.make_circles(n_samples=n_samples, noise=0.1, factor=0.4)\n",
    "\n",
    "scaler = StandardScaler()\n",
    "X_scaled = scaler.fit_transform(X)\n",
    "\n",
    "X_train, X_test, y_train, y_test = train_test_split(X_scaled, y, test_size=0.3, random_state=42)\n"
   ]
  },
  {
   "attachments": {},
   "cell_type": "markdown",
   "metadata": {},
   "source": [
    "Fit the model and predict the unobserved values:"
   ]
  },
  {
   "cell_type": "code",
   "execution_count": 12,
   "metadata": {},
   "outputs": [],
   "source": [
    "svm = SVC(kernel='linear', C=1)\n",
    "svm.fit(X_train, y_train)\n",
    "\n",
    "y_pred = svm.predict(X_test)"
   ]
  },
  {
   "attachments": {},
   "cell_type": "markdown",
   "metadata": {},
   "source": [
    "Measure the performance of the model:"
   ]
  },
  {
   "cell_type": "code",
   "execution_count": 13,
   "metadata": {},
   "outputs": [
    {
     "name": "stdout",
     "output_type": "stream",
     "text": [
      "Accuracy: 0.50\n",
      "Classification Report:\n",
      "              precision    recall  f1-score   support\n",
      "\n",
      "           0       0.60      0.19      0.29        16\n",
      "           1       0.48      0.86      0.62        14\n",
      "\n",
      "    accuracy                           0.50        30\n",
      "   macro avg       0.54      0.52      0.45        30\n",
      "weighted avg       0.54      0.50      0.44        30\n",
      "\n",
      "Confusion Matrix:\n",
      "[[ 3 13]\n",
      " [ 2 12]]\n"
     ]
    }
   ],
   "source": [
    "accuracy = accuracy_score(y_test, y_pred)\n",
    "print(f\"Accuracy: {accuracy:.2f}\")\n",
    "\n",
    "print(\"Classification Report:\")\n",
    "print(classification_report(y_test, y_pred))\n",
    "\n",
    "print(\"Confusion Matrix:\")\n",
    "print(confusion_matrix(y_test, y_pred))"
   ]
  },
  {
   "attachments": {},
   "cell_type": "markdown",
   "metadata": {},
   "source": [
    "Try different Kernels:"
   ]
  },
  {
   "cell_type": "code",
   "execution_count": 14,
   "metadata": {},
   "outputs": [
    {
     "name": "stdout",
     "output_type": "stream",
     "text": [
      "Accuracy for Different Kernels:\n",
      "linear: 0.50\n",
      "poly: 0.60\n",
      "rbf: 1.00\n",
      "sigmoid: 0.53\n"
     ]
    }
   ],
   "source": [
    "kernels = ['linear', 'poly', 'rbf', 'sigmoid']\n",
    "results = {}\n",
    "\n",
    "svms = {}\n",
    "\n",
    "for kernel in kernels:\n",
    "    svm = SVC(kernel=kernel, C=1)\n",
    "    svm.fit(X_train, y_train)\n",
    "    svms[kernel] = svm\n",
    "    y_pred = svm.predict(X_test)\n",
    "    accuracy = accuracy_score(y_test, y_pred)\n",
    "    results[kernel] = accuracy\n",
    "\n",
    "print(\"Accuracy for Different Kernels:\")\n",
    "for kernel, accuracy in results.items():\n",
    "    print(f\"{kernel}: {accuracy:.2f}\")"
   ]
  },
  {
   "cell_type": "code",
   "execution_count": 20,
   "metadata": {},
   "outputs": [
    {
     "data": {
      "image/png": "[encoded data removed]",
      "text/plain": [
       "<Figure size 432x288 with 1 Axes>"
      ]
     },
     "metadata": {
      "needs_background": "light"
     },
     "output_type": "display_data"
    },
    {
     "data": {
      "image/png": "[encoded data removed]",
      "text/plain": [
       "<Figure size 432x288 with 1 Axes>"
      ]
     },
     "metadata": {
      "needs_background": "light"
     },
     "output_type": "display_data"
    },
    {
     "data": {
      "image/png": "[encoded data removed]",
      "text/plain": [
       "<Figure size 432x288 with 1 Axes>"
      ]
     },
     "metadata": {
      "needs_background": "light"
     },
     "output_type": "display_data"
    },
    {
     "data": {
      "image/png": "[encoded data removed]",
      "text/plain": [
       "<Figure size 432x288 with 1 Axes>"
      ]
     },
     "metadata": {
      "needs_background": "light"
     },
     "output_type": "display_data"
    }
   ],
   "source": [
    "for kernel in kernels:\n",
    "    plt.title(f\"{kernel} Kernel\")\n",
    "    plot_decision_boundary(svms[kernel], X_scaled, y)"
   ]
  },
  {
   "attachments": {},
   "cell_type": "markdown",
   "metadata": {},
   "source": [
    "## Exercise: Kernel Comparison with Support Vector Machines\n",
    "\n",
    "In this exercise, you will compare the performance of two different kernel functions in a Support Vector Machine (SVM) classifier. Your task is to fit both kernels to a dataset, evaluate the models, and determine which kernel performs better.\n",
    "\n",
    "### Dataset \n",
    "\n",
    "- Iris dataset: A popular dataset for classification tasks that contains 150 samples of iris flowers, with four features (sepal length, sepal width, petal length, petal width) and three classes (setosa, versicolor, virginica). You can load this dataset from `sklearn.datasets` using `load_iris()`.\n",
    "\n",
    "### Instructions:\n",
    "\n",
    "1. Import the necessary modules and functions.\n",
    "2. Load the dataset and explore its features and target classes (pick only two classes for this exercise).\n",
    "3. Preprocess the data (e.g., scale the features using `StandardScaler`).\n",
    "4. Split the data into training and test sets using train_test_split.\n",
    "5. Train two SVM classifiers with different kernel functions (e.g., 'linear' and 'rbf') using SVC.\n",
    "6. Evaluate the performance of each classifier on the test set using metrics like accuracy, precision, recall, and F1-score (use `accuracy_score`, `classification_report`, and other relevant functions from `sklearn.metrics`).\n",
    "7. Compare the performance of both classifiers and determine which kernel function performs better."
   ]
  },
  {
   "cell_type": "code",
   "execution_count": 16,
   "metadata": {},
   "outputs": [],
   "source": [
    "## Write your solution here"
   ]
  },
  {
   "cell_type": "code",
   "execution_count": 21,
   "metadata": {},
   "outputs": [],
   "source": [
    "# Part 1. Load the dataset with the function load_iris from sklearn.datasets\n",
    "X, y = datasets.load_iris(return_X_y=True)\n",
    "X = X[:, :2]\n",
    "X = X[y < 2]\n",
    "y = y[y < 2]"
   ]
  },
  {
   "cell_type": "code",
   "execution_count": 18,
   "metadata": {},
   "outputs": [],
   "source": [
    "# Part 2. Scale the dataset and split it into train and test sets "
   ]
  },
  {
   "cell_type": "code",
   "execution_count": 19,
   "metadata": {},
   "outputs": [],
   "source": [
    "# Part 3. Train two classifiers"
   ]
  }
 ],
 "metadata": {
  "kernelspec": {
   "display_name": "pennylane",
   "language": "python",
   "name": "python3"
  },
  "language_info": {
   "codemirror_mode": {
    "name": "ipython",
    "version": 3
   },
   "file_extension": ".py",
   "mimetype": "text/x-python",
   "name": "python",
   "nbconvert_exporter": "python",
   "pygments_lexer": "ipython3",
   "version": "3.10.0"
  },
  "orig_nbformat": 4
 },
 "nbformat": 4,
 "nbformat_minor": 2
}
