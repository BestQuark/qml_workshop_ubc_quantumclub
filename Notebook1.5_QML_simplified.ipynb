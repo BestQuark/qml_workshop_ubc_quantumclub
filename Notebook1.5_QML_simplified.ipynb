{
 "cells": [
  {
   "attachments": {},
   "cell_type": "markdown",
   "metadata": {},
   "source": [
    "# An intro to quantum machine learning 🚀\n",
    "(with one qubit!)"
   ]
  },
  {
   "cell_type": "code",
   "execution_count": null,
   "metadata": {},
   "outputs": [],
   "source": [
    "import numpy as np\n",
    "import matplotlib.pyplot as plt\n",
    "from sklearn.datasets import make_moons, make_circles\n",
    "from sklearn.decomposition import KernelPCA\n",
    "from sklearn.preprocessing import MinMaxScaler\n",
    "from sklearn.model_selection import train_test_split\n"
   ]
  },
  {
   "attachments": {},
   "cell_type": "markdown",
   "metadata": {},
   "source": [
    "Since we will only use one qubit, we need to reduce the dimensionality of the data. For this, we will use Kernel PCA."
   ]
  },
  {
   "cell_type": "code",
   "execution_count": null,
   "metadata": {},
   "outputs": [],
   "source": [
    "n_samples = 100\n",
    "\n",
    "# Create the dataset\n",
    "X, y = make_circles(n_samples=n_samples, noise=0.1, random_state=42, factor=0.4)\n",
    "\n",
    "# Preprocess the dataset\n",
    "scaler = MinMaxScaler((-np.pi, np.pi))\n",
    "X = scaler.fit_transform(X)\n",
    "\n",
    "# Plot the original dataset\n",
    "plt.figure()\n",
    "plt.scatter(X[:, 0], X[:, 1], c=y, s=40, cmap=plt.cm.Spectral)\n",
    "plt.title(\"Original Dataset\")\n",
    "\n",
    "plt.show()\n"
   ]
  },
  {
   "cell_type": "code",
   "execution_count": null,
   "metadata": {},
   "outputs": [],
   "source": [
    "X_train, X_test, y_train, y_test = train_test_split(X, y, test_size=0.3, random_state=4)"
   ]
  },
  {
   "attachments": {},
   "cell_type": "markdown",
   "metadata": {},
   "source": [
    "## Variational Quantum Classifier"
   ]
  },
  {
   "cell_type": "code",
   "execution_count": null,
   "metadata": {},
   "outputs": [],
   "source": [
    "from qiskit_machine_learning.algorithms import VQC\n",
    "from qiskit.algorithms.optimizers import SPSA\n",
    "from qiskit.circuit.library import TwoLocal, ZZFeatureMap, ZFeatureMap\n",
    "\n",
    "from qiskit.circuit import ParameterVector, Parameter, QuantumCircuit\n",
    "from utils import plot_decision_boundary, statevectors_for_circuit, bloch_sphere_statevector_figure"
   ]
  },
  {
   "cell_type": "code",
   "execution_count": null,
   "metadata": {},
   "outputs": [],
   "source": [
    "def build_data_encoding_circuit(data_dim=2):\n",
    "    n_qubits = 1\n",
    "\n",
    "    data_params = ParameterVector('x', data_dim)\n",
    "\n",
    "    model_circuit = QuantumCircuit(n_qubits)\n",
    "    model_circuit.rx(data_params[0], qubit=0)\n",
    "    model_circuit.ry(data_params[1], qubit=0)\n",
    "    \n",
    "    return model_circuit\n",
    "\n",
    "build_data_encoding_circuit().draw('mpl')"
   ]
  },
  {
   "cell_type": "code",
   "execution_count": null,
   "metadata": {},
   "outputs": [],
   "source": [
    "statevectors = statevectors_for_circuit(build_data_encoding_circuit(), X_train)\n",
    "fig = bloch_sphere_statevector_figure(statevectors , y_train)\n",
    "fig.show()"
   ]
  },
  {
   "cell_type": "code",
   "execution_count": null,
   "metadata": {},
   "outputs": [],
   "source": [
    "def build_param_transform_circuit(n_params=3):\n",
    "    n_qubits = 1\n",
    "\n",
    "    params = ParameterVector('theta', n_params)\n",
    "\n",
    "    model_circuit = QuantumCircuit(n_qubits)\n",
    "    model_circuit.rz(params[0], qubit=0)\n",
    "    model_circuit.rx(params[1], qubit=0)\n",
    "    model_circuit.rz(params[2], qubit=0)\n",
    "\n",
    "    return model_circuit\n",
    "\n",
    "build_param_transform_circuit().draw('mpl')"
   ]
  },
  {
   "cell_type": "code",
   "execution_count": null,
   "metadata": {},
   "outputs": [],
   "source": [
    "optimizer = SPSA(maxiter=100)\n",
    "vqc = VQC(num_qubits=1,\n",
    "        feature_map=build_data_encoding_circuit(),\n",
    "        ansatz = build_param_transform_circuit(),\n",
    "        loss = 'cross_entropy',\n",
    "        optimizer = optimizer)"
   ]
  },
  {
   "cell_type": "code",
   "execution_count": null,
   "metadata": {},
   "outputs": [],
   "source": [
    "vqc.fit(X_train, y_train)"
   ]
  },
  {
   "cell_type": "code",
   "execution_count": null,
   "metadata": {},
   "outputs": [],
   "source": [
    "test_accuracy = vqc.score(X_test, y_test)\n",
    "print(f'Testing success ratio: {test_accuracy}')"
   ]
  },
  {
   "attachments": {},
   "cell_type": "markdown",
   "metadata": {},
   "source": [
    "## Quantum Support Vector Machine"
   ]
  },
  {
   "cell_type": "code",
   "execution_count": null,
   "metadata": {},
   "outputs": [],
   "source": [
    "from qiskit_machine_learning.algorithms import QSVC\n",
    "from qiskit_machine_learning.kernels import FidelityQuantumKernel\n",
    "from utils import plot_kernel_matrix"
   ]
  },
  {
   "cell_type": "code",
   "execution_count": null,
   "metadata": {},
   "outputs": [],
   "source": [
    "# Initialize the quantum kernel and QSVM\n",
    "data_encoding_circuit = build_data_encoding_circuit()\n",
    "kernel = FidelityQuantumKernel(feature_map=data_encoding_circuit)\n",
    "qsvc = QSVC(quantum_kernel=kernel)"
   ]
  },
  {
   "cell_type": "code",
   "execution_count": null,
   "metadata": {
    "collapsed": false
   },
   "outputs": [],
   "source": [
    "plot_kernel_matrix(X_train, y_train, data_encoding_circuit)"
   ]
  },
  {
   "cell_type": "code",
   "execution_count": null,
   "metadata": {},
   "outputs": [],
   "source": [
    "# fit the model\n",
    "qsvc.fit(X_train, y_train)"
   ]
  },
  {
   "cell_type": "code",
   "execution_count": null,
   "metadata": {},
   "outputs": [],
   "source": [
    "test_accuracy = qsvc.score(X_test, y_test)\n",
    "print(f'Testing success ratio: {test_accuracy}')"
   ]
  },
  {
   "cell_type": "markdown",
   "metadata": {
    "collapsed": false
   },
   "source": [
    "## Now, it is your turn!"
   ]
  },
  {
   "cell_type": "markdown",
   "metadata": {
    "collapsed": false
   },
   "source": [
    "Try VQC and QSVM on the real-world dataset iris!"
   ]
  },
  {
   "cell_type": "code",
   "execution_count": null,
   "metadata": {
    "collapsed": false
   },
   "outputs": [],
   "source": []
  }
 ],
 "metadata": {
  "kernelspec": {
   "display_name": "pennylane",
   "language": "python",
   "name": "python3"
  },
  "language_info": {
   "codemirror_mode": {
    "name": "ipython",
    "version": 3
   },
   "file_extension": ".py",
   "mimetype": "text/x-python",
   "name": "python",
   "nbconvert_exporter": "python",
   "pygments_lexer": "ipython3",
   "version": "3.10.0"
  },
  "orig_nbformat": 4
 },
 "nbformat": 4,
 "nbformat_minor": 2
}
