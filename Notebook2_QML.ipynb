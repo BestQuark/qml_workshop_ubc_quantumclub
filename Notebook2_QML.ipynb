{
 "cells": [
  {
   "attachments": {},
   "cell_type": "markdown",
   "metadata": {},
   "source": [
    "# An intro to quantum machine learning 🚀\n",
    "(with multiple qubits)"
   ]
  },
  {
   "cell_type": "code",
   "execution_count": 8,
   "metadata": {},
   "outputs": [],
   "source": [
    "import numpy as np\n",
    "from sklearn.datasets import make_moons\n",
    "from sklearn.preprocessing import MinMaxScaler\n",
    "from sklearn.model_selection import train_test_split\n",
    "\n",
    "import matplotlib.pyplot as plt\n",
    "from utils import plot_decision_boundary\n",
    "\n",
    "from qiskit_machine_learning.algorithms import VQC\n",
    "from qiskit.algorithms.optimizers import SPSA\n",
    "from qiskit.circuit.library import TwoLocal, ZZFeatureMap, ZFeatureMap"
   ]
  },
  {
   "attachments": {},
   "cell_type": "markdown",
   "metadata": {},
   "source": [
    "We pick a synthetic dataset and train a quantum circuit to classify it."
   ]
  },
  {
   "cell_type": "code",
   "execution_count": 26,
   "metadata": {},
   "outputs": [
    {
     "data": {
      "text/plain": [
       "<matplotlib.collections.PathCollection at 0x2a3760a30>"
      ]
     },
     "execution_count": 26,
     "metadata": {},
     "output_type": "execute_result"
    },
    {
     "data": {
      "image/png": "[encoded data removed]",
      "text/plain": [
       "<Figure size 432x288 with 1 Axes>"
      ]
     },
     "metadata": {
      "needs_background": "light"
     },
     "output_type": "display_data"
    }
   ],
   "source": [
    "n_samples = 100\n",
    "\n",
    "X, y = make_moons(n_samples=n_samples, noise=0.1)\n",
    "\n",
    "scaler = MinMaxScaler((-1, 1))\n",
    "X = scaler.fit_transform(X)\n",
    "\n",
    "# plot the dataset \n",
    "plt.scatter(X[:, 0], X[:, 1], c=y, s=40, cmap=plt.cm.Spectral)\n"
   ]
  },
  {
   "cell_type": "code",
   "execution_count": 27,
   "metadata": {},
   "outputs": [],
   "source": [
    "# Split the dataset into training and test sets\n",
    "X_train, X_test, y_train, y_test = train_test_split(X, y, test_size=0.3, random_state=42)"
   ]
  },
  {
   "attachments": {},
   "cell_type": "markdown",
   "metadata": {},
   "source": [
    "## Variational Quantum Classifier"
   ]
  },
  {
   "cell_type": "code",
   "execution_count": 28,
   "metadata": {},
   "outputs": [
    {
     "name": "stdout",
     "output_type": "stream",
     "text": [
      "     ┌───┐┌─────────────┐\n",
      "q_0: ┤ H ├┤ P(2.0*x[0]) ├\n",
      "     ├───┤├─────────────┤\n",
      "q_1: ┤ H ├┤ P(2.0*x[1]) ├\n",
      "     └───┘└─────────────┘\n"
     ]
    }
   ],
   "source": [
    "num_qubits = 2\n",
    "feature_map = ZFeatureMap(feature_dimension=2, reps=1)\n",
    "print(feature_map.decompose())"
   ]
  },
  {
   "cell_type": "code",
   "execution_count": 29,
   "metadata": {},
   "outputs": [
    {
     "name": "stdout",
     "output_type": "stream",
     "text": [
      "     ┌──────────┐┌──────────┐ ░     ░ ┌──────────┐┌──────────┐ ░     ░ »\n",
      "q_0: ┤ Rz(θ[0]) ├┤ Ry(θ[2]) ├─░──■──░─┤ Rz(θ[4]) ├┤ Ry(θ[6]) ├─░──■──░─»\n",
      "     ├──────────┤├──────────┤ ░  │  ░ ├──────────┤├──────────┤ ░  │  ░ »\n",
      "q_1: ┤ Rz(θ[1]) ├┤ Ry(θ[3]) ├─░──■──░─┤ Rz(θ[5]) ├┤ Ry(θ[7]) ├─░──■──░─»\n",
      "     └──────────┘└──────────┘ ░     ░ └──────────┘└──────────┘ ░     ░ »\n",
      "«     ┌──────────┐┌───────────┐ ░     ░ ┌───────────┐┌───────────┐\n",
      "«q_0: ┤ Rz(θ[8]) ├┤ Ry(θ[10]) ├─░──■──░─┤ Rz(θ[12]) ├┤ Ry(θ[14]) ├\n",
      "«     ├──────────┤├───────────┤ ░  │  ░ ├───────────┤├───────────┤\n",
      "«q_1: ┤ Rz(θ[9]) ├┤ Ry(θ[11]) ├─░──■──░─┤ Rz(θ[13]) ├┤ Ry(θ[15]) ├\n",
      "«     └──────────┘└───────────┘ ░     ░ └───────────┘└───────────┘\n"
     ]
    }
   ],
   "source": [
    "var_form = TwoLocal(num_qubits, ['rz', 'ry'], 'cz', reps=3, insert_barriers=True)\n",
    "print(var_form.decompose())"
   ]
  },
  {
   "cell_type": "code",
   "execution_count": 30,
   "metadata": {},
   "outputs": [],
   "source": [
    "optimizer = SPSA(maxiter=40)\n",
    "vqc = VQC(num_qubits, \n",
    "        feature_map, \n",
    "        ansatz = var_form, \n",
    "        loss = 'cross_entropy',\n",
    "        optimizer = optimizer, \n",
    ")"
   ]
  },
  {
   "cell_type": "code",
   "execution_count": 31,
   "metadata": {},
   "outputs": [
    {
     "name": "stdout",
     "output_type": "stream",
     "text": [
      "     ┌───┐┌─────────────┐┌──────────┐┌──────────┐ ░     ░ ┌──────────┐»\n",
      "q_0: ┤ H ├┤ P(2.0*x[0]) ├┤ Rz(θ[0]) ├┤ Ry(θ[2]) ├─░──■──░─┤ Rz(θ[4]) ├»\n",
      "     ├───┤├─────────────┤├──────────┤├──────────┤ ░  │  ░ ├──────────┤»\n",
      "q_1: ┤ H ├┤ P(2.0*x[1]) ├┤ Rz(θ[1]) ├┤ Ry(θ[3]) ├─░──■──░─┤ Rz(θ[5]) ├»\n",
      "     └───┘└─────────────┘└──────────┘└──────────┘ ░     ░ └──────────┘»\n",
      "«     ┌──────────┐ ░     ░ ┌──────────┐┌───────────┐ ░     ░ ┌───────────┐»\n",
      "«q_0: ┤ Ry(θ[6]) ├─░──■──░─┤ Rz(θ[8]) ├┤ Ry(θ[10]) ├─░──■──░─┤ Rz(θ[12]) ├»\n",
      "«     ├──────────┤ ░  │  ░ ├──────────┤├───────────┤ ░  │  ░ ├───────────┤»\n",
      "«q_1: ┤ Ry(θ[7]) ├─░──■──░─┤ Rz(θ[9]) ├┤ Ry(θ[11]) ├─░──■──░─┤ Rz(θ[13]) ├»\n",
      "«     └──────────┘ ░     ░ └──────────┘└───────────┘ ░     ░ └───────────┘»\n",
      "«     ┌───────────┐\n",
      "«q_0: ┤ Ry(θ[14]) ├\n",
      "«     ├───────────┤\n",
      "«q_1: ┤ Ry(θ[15]) ├\n",
      "«     └───────────┘\n"
     ]
    }
   ],
   "source": [
    "print(vqc.circuit.decompose())"
   ]
  },
  {
   "cell_type": "code",
   "execution_count": 32,
   "metadata": {},
   "outputs": [
    {
     "data": {
      "text/plain": [
       "<qiskit_machine_learning.algorithms.classifiers.vqc.VQC at 0x157f05b40>"
      ]
     },
     "execution_count": 32,
     "metadata": {},
     "output_type": "execute_result"
    }
   ],
   "source": [
    "vqc.fit(X_train, y_train)"
   ]
  },
  {
   "cell_type": "code",
   "execution_count": 33,
   "metadata": {},
   "outputs": [
    {
     "name": "stdout",
     "output_type": "stream",
     "text": [
      "Testing success ratio: 0.7666666666666667\n"
     ]
    }
   ],
   "source": [
    "test_accuracy = vqc.score(X_test, y_test)\n",
    "print(f'Testing success ratio: {test_accuracy}')"
   ]
  },
  {
   "cell_type": "code",
   "execution_count": 34,
   "metadata": {},
   "outputs": [
    {
     "data": {
      "image/png": "[encoded data removed]",
      "text/plain": [
       "<Figure size 432x288 with 1 Axes>"
      ]
     },
     "metadata": {
      "needs_background": "light"
     },
     "output_type": "display_data"
    }
   ],
   "source": [
    "plot_decision_boundary(vqc, X, y, pad=0.1)"
   ]
  },
  {
   "attachments": {},
   "cell_type": "markdown",
   "metadata": {},
   "source": [
    "## Quantum Support Vector Machine"
   ]
  },
  {
   "cell_type": "code",
   "execution_count": 9,
   "metadata": {},
   "outputs": [],
   "source": [
    "from qiskit_machine_learning.algorithms import QSVC"
   ]
  },
  {
   "cell_type": "code",
   "execution_count": 10,
   "metadata": {},
   "outputs": [],
   "source": [
    "from qiskit_machine_learning.kernels import FidelityQuantumKernel"
   ]
  },
  {
   "cell_type": "code",
   "execution_count": 11,
   "metadata": {},
   "outputs": [],
   "source": [
    "# Initialize the quantum kernel\n",
    "kernel = FidelityQuantumKernel(feature_map=ZFeatureMap(feature_dimension=2, reps=2))\n"
   ]
  },
  {
   "cell_type": "code",
   "execution_count": 13,
   "metadata": {},
   "outputs": [],
   "source": [
    "qsvc = QSVC(quantum_kernel=kernel)"
   ]
  },
  {
   "cell_type": "code",
   "execution_count": 14,
   "metadata": {},
   "outputs": [
    {
     "data": {
      "text/html": [
       "<style>#sk-container-id-1 {color: black;background-color: white;}#sk-container-id-1 pre{padding: 0;}#sk-container-id-1 div.sk-toggleable {background-color: white;}#sk-container-id-1 label.sk-toggleable__label {cursor: pointer;display: block;width: 100%;margin-bottom: 0;padding: 0.3em;box-sizing: border-box;text-align: center;}#sk-container-id-1 label.sk-toggleable__label-arrow:before {content: \"▸\";float: left;margin-right: 0.25em;color: #696969;}#sk-container-id-1 label.sk-toggleable__label-arrow:hover:before {color: black;}#sk-container-id-1 div.sk-estimator:hover label.sk-toggleable__label-arrow:before {color: black;}#sk-container-id-1 div.sk-toggleable__content {max-height: 0;max-width: 0;overflow: hidden;text-align: left;background-color: #f0f8ff;}#sk-container-id-1 div.sk-toggleable__content pre {margin: 0.2em;color: black;border-radius: 0.25em;background-color: #f0f8ff;}#sk-container-id-1 input.sk-toggleable__control:checked~div.sk-toggleable__content {max-height: 200px;max-width: 100%;overflow: auto;}#sk-container-id-1 input.sk-toggleable__control:checked~label.sk-toggleable__label-arrow:before {content: \"▾\";}#sk-container-id-1 div.sk-estimator input.sk-toggleable__control:checked~label.sk-toggleable__label {background-color: #d4ebff;}#sk-container-id-1 div.sk-label input.sk-toggleable__control:checked~label.sk-toggleable__label {background-color: #d4ebff;}#sk-container-id-1 input.sk-hidden--visually {border: 0;clip: rect(1px 1px 1px 1px);clip: rect(1px, 1px, 1px, 1px);height: 1px;margin: -1px;overflow: hidden;padding: 0;position: absolute;width: 1px;}#sk-container-id-1 div.sk-estimator {font-family: monospace;background-color: #f0f8ff;border: 1px dotted black;border-radius: 0.25em;box-sizing: border-box;margin-bottom: 0.5em;}#sk-container-id-1 div.sk-estimator:hover {background-color: #d4ebff;}#sk-container-id-1 div.sk-parallel-item::after {content: \"\";width: 100%;border-bottom: 1px solid gray;flex-grow: 1;}#sk-container-id-1 div.sk-label:hover label.sk-toggleable__label {background-color: #d4ebff;}#sk-container-id-1 div.sk-serial::before {content: \"\";position: absolute;border-left: 1px solid gray;box-sizing: border-box;top: 0;bottom: 0;left: 50%;z-index: 0;}#sk-container-id-1 div.sk-serial {display: flex;flex-direction: column;align-items: center;background-color: white;padding-right: 0.2em;padding-left: 0.2em;position: relative;}#sk-container-id-1 div.sk-item {position: relative;z-index: 1;}#sk-container-id-1 div.sk-parallel {display: flex;align-items: stretch;justify-content: center;background-color: white;position: relative;}#sk-container-id-1 div.sk-item::before, #sk-container-id-1 div.sk-parallel-item::before {content: \"\";position: absolute;border-left: 1px solid gray;box-sizing: border-box;top: 0;bottom: 0;left: 50%;z-index: -1;}#sk-container-id-1 div.sk-parallel-item {display: flex;flex-direction: column;z-index: 1;position: relative;background-color: white;}#sk-container-id-1 div.sk-parallel-item:first-child::after {align-self: flex-end;width: 50%;}#sk-container-id-1 div.sk-parallel-item:last-child::after {align-self: flex-start;width: 50%;}#sk-container-id-1 div.sk-parallel-item:only-child::after {width: 0;}#sk-container-id-1 div.sk-dashed-wrapped {border: 1px dashed gray;margin: 0 0.4em 0.5em 0.4em;box-sizing: border-box;padding-bottom: 0.4em;background-color: white;}#sk-container-id-1 div.sk-label label {font-family: monospace;font-weight: bold;display: inline-block;line-height: 1.2em;}#sk-container-id-1 div.sk-label-container {text-align: center;}#sk-container-id-1 div.sk-container {/* jupyter's `normalize.less` sets `[hidden] { display: none; }` but bootstrap.min.css set `[hidden] { display: none !important; }` so we also need the `!important` here to be able to override the default hidden behavior on the sphinx rendered scikit-learn.org. See: https://github.com/scikit-learn/scikit-learn/issues/21755 */display: inline-block !important;position: relative;}#sk-container-id-1 div.sk-text-repr-fallback {display: none;}</style><div id=\"sk-container-id-1\" class=\"sk-top-container\"><div class=\"sk-text-repr-fallback\"><pre>QSVC(C=1.0, break_ties=False, cache_size=200, class_weight=None, coef0=0.0,\n",
       "     decision_function_shape=&#x27;ovr&#x27;, degree=3, gamma=&#x27;scale&#x27;, max_iter=-1,\n",
       "     probability=False,\n",
       "     quantum_kernel=&lt;qiskit_machine_learning.kernels.fidelity_quantum_kernel.FidelityQuantumKernel object at 0x292f29600&gt;,\n",
       "     random_state=None, shrinking=True, tol=0.001, verbose=False)</pre><b>In a Jupyter environment, please rerun this cell to show the HTML representation or trust the notebook. <br />On GitHub, the HTML representation is unable to render, please try loading this page with nbviewer.org.</b></div><div class=\"sk-container\" hidden><div class=\"sk-item\"><div class=\"sk-estimator sk-toggleable\"><input class=\"sk-toggleable__control sk-hidden--visually\" id=\"sk-estimator-id-1\" type=\"checkbox\" checked><label for=\"sk-estimator-id-1\" class=\"sk-toggleable__label sk-toggleable__label-arrow\">QSVC</label><div class=\"sk-toggleable__content\"><pre>QSVC(C=1.0, break_ties=False, cache_size=200, class_weight=None, coef0=0.0,\n",
       "     decision_function_shape=&#x27;ovr&#x27;, degree=3, gamma=&#x27;scale&#x27;, max_iter=-1,\n",
       "     probability=False,\n",
       "     quantum_kernel=&lt;qiskit_machine_learning.kernels.fidelity_quantum_kernel.FidelityQuantumKernel object at 0x292f29600&gt;,\n",
       "     random_state=None, shrinking=True, tol=0.001, verbose=False)</pre></div></div></div></div></div>"
      ],
      "text/plain": [
       "QSVC(C=1.0, break_ties=False, cache_size=200, class_weight=None, coef0=0.0,\n",
       "     decision_function_shape='ovr', degree=3, gamma='scale', max_iter=-1,\n",
       "     probability=False,\n",
       "     quantum_kernel=<qiskit_machine_learning.kernels.fidelity_quantum_kernel.FidelityQuantumKernel object at 0x292f29600>,\n",
       "     random_state=None, shrinking=True, tol=0.001, verbose=False)"
      ]
     },
     "execution_count": 14,
     "metadata": {},
     "output_type": "execute_result"
    }
   ],
   "source": [
    "# fit the model\n",
    "qsvc.fit(X_train, y_train)"
   ]
  },
  {
   "cell_type": "code",
   "execution_count": 15,
   "metadata": {},
   "outputs": [
    {
     "name": "stdout",
     "output_type": "stream",
     "text": [
      "Testing success ratio: 0.8333333333333334\n"
     ]
    }
   ],
   "source": [
    "test_accuracy = qsvc.score(X_test, y_test)\n",
    "print(f'Testing success ratio: {test_accuracy}')"
   ]
  },
  {
   "attachments": {},
   "cell_type": "markdown",
   "metadata": {},
   "source": [
    "# Your turn:\n",
    "\n",
    "Classify the Iris dataset using the QML algorithm of your choice."
   ]
  },
  {
   "cell_type": "code",
   "execution_count": 16,
   "metadata": {},
   "outputs": [],
   "source": [
    "# Your code here"
   ]
  },
  {
   "cell_type": "code",
   "execution_count": null,
   "metadata": {},
   "outputs": [],
   "source": []
  },
  {
   "cell_type": "code",
   "execution_count": null,
   "metadata": {},
   "outputs": [],
   "source": []
  },
  {
   "attachments": {},
   "cell_type": "markdown",
   "metadata": {},
   "source": [
    "# Sending your code to IBM Quantum 🧑‍🔬"
   ]
  },
  {
   "cell_type": "code",
   "execution_count": null,
   "metadata": {},
   "outputs": [],
   "source": [
    "from qiskit import IBMQ, transpile\n",
    "from qiskit.providers.ibmq.managed import IBMQJobManager\n",
    "from qiskit.circuit.random import random_circuit\n",
    "\n",
    "provider = IBMQ.load_account()\n",
    "backend = provider.get_backend('ibmq_qasm_simulator')\n",
    "\n",
    "# Build a thousand circuits.\n",
    "circs = []\n",
    "for _ in range(1000):\n",
    "    circs.append(random_circuit(num_qubits=5, depth=4, measure=True))\n",
    "\n",
    "# Need to transpile the circuits first.\n",
    "circs = transpile(circs, backend=backend)\n",
    "\n",
    "# Use Job Manager to break the circuits into multiple jobs.\n",
    "job_manager = IBMQJobManager()\n",
    "job_set_foo = job_manager.run(circs, backend=backend, name='foo')"
   ]
  }
 ],
 "metadata": {
  "kernelspec": {
   "display_name": "pennylane",
   "language": "python",
   "name": "python3"
  },
  "language_info": {
   "codemirror_mode": {
    "name": "ipython",
    "version": 3
   },
   "file_extension": ".py",
   "mimetype": "text/x-python",
   "name": "python",
   "nbconvert_exporter": "python",
   "pygments_lexer": "ipython3",
   "version": "3.10.0"
  },
  "orig_nbformat": 4
 },
 "nbformat": 4,
 "nbformat_minor": 2
}
